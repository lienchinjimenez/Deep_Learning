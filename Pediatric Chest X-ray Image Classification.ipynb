{
 "cells": [
  {
   "cell_type": "markdown",
   "id": "fc18810c",
   "metadata": {},
   "source": [
    "#  DEEPLEARNING PROJECT\n",
    "\n",
    "\n",
    "\n",
    "\n",
    "\n",
    "Team: Alberto Padilla, Lien Chin, Berta Pfaff, Francesc Vilaró.\n",
    "\n",
    "\n",
    "The dataset is organized into 2 folders (train, test) and contains subfolders for each image category (Pneumonia/Normal). There are X-Ray images (JPEG) and 2 categories (Pneumonia/Normal). Chest X-ray images (anterior-posterior) were selected from retrospective cohorts of pediatric patients of one to five years old from Guangzhou Women and Children’s Medical Center, Guangzhou. All chest X-ray imaging was performed as part of patients’ routine clinical care. For the analysis of chest x-ray images, all chest radiographs were initially screened for quality control by removing all low quality or unreadable scans. The diagnoses for the images were then graded by two expert physicians before being cleared for training the AI system. In order to account for any grading errors, the evaluation set was also checked by a third expert."
   ]
  },
  {
   "cell_type": "markdown",
   "id": "1dad55b6",
   "metadata": {},
   "source": [
    "# Libraries"
   ]
  },
  {
   "cell_type": "code",
   "execution_count": 1,
   "id": "6907813c",
   "metadata": {},
   "outputs": [],
   "source": [
    "# Library System\n",
    "import os\n",
    "\n",
    "# Library Images Treatment\n",
    "from PIL import Image\n",
    "import cv2\n",
    "from keras.preprocessing import image\n",
    "from keras.preprocessing.image import ImageDataGenerator\n",
    "\n",
    "# Library Neural Network\n",
    "import tensorflow as tf\n",
    "from tensorflow import keras\n",
    "from keras.layers import Flatten, Dense\n",
    "from keras.models import Model\n",
    "from sklearn.model_selection import train_test_split\n",
    "\n",
    "# Library Graphics\n",
    "import numpy as np\n",
    "import matplotlib.pyplot as plt\n",
    "import matplotlib.patches as patches\n",
    "\n",
    "# Library Counter-Process\n",
    "from tqdm import tqdm\n",
    "\n",
    "# Library Application Form\n",
    "import tkinter as tk"
   ]
  },
  {
   "cell_type": "code",
   "execution_count": 2,
   "id": "cda35b3c",
   "metadata": {},
   "outputs": [
    {
     "data": {
      "text/plain": [
       "'C:\\\\Users\\\\User\\\\Máster Data Science\\\\Deep Learning\\\\Final_Project'"
      ]
     },
     "execution_count": 2,
     "metadata": {},
     "output_type": "execute_result"
    }
   ],
   "source": [
    "os.getcwd()"
   ]
  },
  {
   "cell_type": "markdown",
   "id": "c56f77d3",
   "metadata": {},
   "source": [
    "# Auxiliary Functions"
   ]
  },
  {
   "cell_type": "markdown",
   "id": "4b9e0b29",
   "metadata": {},
   "source": [
    "**PARAMETERS FORM**"
   ]
  },
  {
   "cell_type": "code",
   "execution_count": 3,
   "id": "17848fb9",
   "metadata": {},
   "outputs": [],
   "source": [
    "def parameters_form():\n",
    "    \n",
    "    # Function to be executed when the \"Save\" button is pressed.\n",
    "    def save_variables():\n",
    "\n",
    "        global IMG_SIZE,num_imagenesXimagen,num_imagenes_totales,test_size,val_size,BATCH_SIZE,EPOCHS\n",
    "\n",
    "        # Get the values entered by the user in the input fields\n",
    "        IMG_SIZE = int(img_size_entry.get()or 128) \n",
    "        num_imagenesXimagen = int(num_imagenes_entry.get()or 0) \n",
    "        num_imagenes_totales=int(num_imagenes_tot_entry.get()or 0) \n",
    "        test_size=float(test_size_entry.get() or 0.11)\n",
    "        val_size=float(val_size_entry.get()or 0.1) \n",
    "        BATCH_SIZE=int(BATCH_SIZE_entry.get()or 32) \n",
    "        EPOCHS=int(EPOCHS_entry.get()or 1) \n",
    "\n",
    "        # Cerrar la ventana\n",
    "        root.destroy()\n",
    "    \n",
    "    # Create the main window\n",
    "    root = tk.Tk()\n",
    "    root.title(\"Parameters Form\")\n",
    "\n",
    "    # Create the necessary widgets (labels, input fields and buttons)\n",
    "    img_size_label = tk.Label(root, text=\"Size Image to Transform \\n def(128x128): \")\n",
    "    img_size_entry = tk.Entry(root)\n",
    "    img_size_label.pack()\n",
    "    img_size_entry.pack()\n",
    "\n",
    "    num_imagenes_label = tk.Label(root, text=\"Images created for EACH image \\n def(0):\")\n",
    "    num_imagenes_entry = tk.Entry(root)\n",
    "    num_imagenes_label.pack()\n",
    "    num_imagenes_entry.pack()\n",
    "    \n",
    "    num_imagenes_tot_label = tk.Label(root, text=\"Total Images Created def(0):\")\n",
    "    num_imagenes_tot_entry = tk.Entry(root)\n",
    "    num_imagenes_tot_label.pack()\n",
    "    num_imagenes_tot_entry.pack()\n",
    "    \n",
    "    test_size_label = tk.Label(root, text=\"Size TEST (0-1) set def(0.11):\")\n",
    "    test_size_entry = tk.Entry(root)\n",
    "    test_size_label.pack()\n",
    "    test_size_entry.pack()\n",
    "    \n",
    "    val_size_label = tk.Label(root, text=\"Size VALIDATION (0-1) set def(0.1):\")\n",
    "    val_size_entry = tk.Entry(root)\n",
    "    val_size_label.pack()\n",
    "    val_size_entry.pack()\n",
    "    \n",
    "    BATCH_SIZE_label = tk.Label(root, text=\"Size BATCH def(32):\")\n",
    "    BATCH_SIZE_entry = tk.Entry(root)\n",
    "    BATCH_SIZE_label.pack()\n",
    "    BATCH_SIZE_entry.pack()\n",
    "    \n",
    "    EPOCHS_label = tk.Label(root, text=\"Size EPOCHS def(1):\")\n",
    "    EPOCHS_entry = tk.Entry(root)\n",
    "    EPOCHS_label.pack()\n",
    "    EPOCHS_entry.pack()\n",
    "\n",
    "    guardar_button = tk.Button(root, text=\"Guardar\", command=save_variables)\n",
    "    guardar_button.pack(side='left')\n",
    "    \n",
    "    button_close = tk.Button(root, text=\"Close\", command=root.destroy)\n",
    "    button_close.pack(side='right')\n",
    "\n",
    "    # Start the main application loop\n",
    "    root.mainloop()"
   ]
  },
  {
   "cell_type": "markdown",
   "id": "ace13178",
   "metadata": {},
   "source": [
    "**DIRECTORY SCANNING AND FILE CONTENT SCANNING FUNCTION**"
   ]
  },
  {
   "cell_type": "code",
   "execution_count": 4,
   "id": "26a44028",
   "metadata": {},
   "outputs": [],
   "source": [
    "def image_exploration(_path):\n",
    "    '''\n",
    "    Create a list of tuples with class, path and size for each image\n",
    "    '''    \n",
    "    tuples_list=[]\n",
    "    num_archivos={}\n",
    "    \n",
    "    # We go through the directory\n",
    "    for raiz, dirs, archivos in os.walk(_path):\n",
    "        num_archivos[raiz]=len(archivos)\n",
    "\n",
    "        \n",
    "        # We get the class (NORMAL or PNEUMONIA), the image size\n",
    "        # and the full path of the image\n",
    "        for archivo in archivos:\n",
    "            image_path=os.path.normpath((os.path.join(raiz, archivo)))\n",
    "            try:\n",
    "                image_class=image_path.split('\\\\')[2]\n",
    "            except:\n",
    "                image_class='NORMAL'\n",
    "                \n",
    "            with Image.open(image_path) as img:\n",
    "                image_size = img.size\n",
    "            \n",
    "        # We create tuplay and add to the list\n",
    "            tuple_image=(image_class, image_path,image_size) # (TEST-TRAIN,CLASS,PATH,SIZE (WIDTH-HEIGHT))\n",
    "            tuples_list.append(tuple_image)\n",
    "    \n",
    "    # Graph Files\n",
    "    plt.bar(list(num_archivos.keys()), num_archivos.values(), color='Blue')\n",
    "    for i, value in enumerate(num_archivos.values()):\n",
    "        plt.text(i, value+(value*0.06), str(value), ha='center')\n",
    "        \n",
    "    plt.xticks(rotation=90)\n",
    "    return tuples_list"
   ]
  },
  {
   "cell_type": "markdown",
   "id": "351f5620",
   "metadata": {},
   "source": [
    "**IMAGE ENLARGEMENT FUNCTION**"
   ]
  },
  {
   "cell_type": "code",
   "execution_count": 5,
   "id": "fa34e98c",
   "metadata": {},
   "outputs": [],
   "source": [
    "def images_creator(_listTuplesImages):\n",
    "    '''\n",
    "    Function which generate _totalImages, creating _numImagesCreate by each images in _listTuplesImages\n",
    "    '''\n",
    "    i=1\n",
    "    \n",
    "   # Create the \"image\" folder if it does not exist\n",
    "    if not os.path.exists('image'):\n",
    "        os.makedirs('image')\n",
    "        \n",
    "    for tuple_images in _listTuplesImages:\n",
    "        if tuple_images[0]=='NORMAL':\n",
    "                image_generator(tuple_images[1])\n",
    "                i+=num_imagenesXimagen           \n",
    "                if i > (num_imagenes_totales):\n",
    "                    break \n",
    "\n",
    "    return print(f'Proceso completado')\n",
    "                "
   ]
  },
  {
   "cell_type": "markdown",
   "id": "907258db",
   "metadata": {},
   "source": [
    "<font size=1>**GENERATING SUB-FUNCTION**</font>"
   ]
  },
  {
   "cell_type": "code",
   "execution_count": 6,
   "id": "4c0621f9",
   "metadata": {},
   "outputs": [],
   "source": [
    "def image_generator(_pathImage):\n",
    "    \n",
    "    # Creates a data generator object that transforms images\n",
    "    datagen = ImageDataGenerator(\n",
    "    rotation_range=50,\n",
    "    fill_mode='nearest')\n",
    "    \n",
    "    # Open images\n",
    "    image_array=cv2.imread(_pathImage, cv2.IMREAD_GRAYSCALE)\n",
    "    image_array=np.expand_dims(image_array,axis=2)\n",
    "    i = 1\n",
    "    name_image=_pathImage.split('\\\\')[3]\n",
    "                                   \n",
    "    for batch in datagen.flow(np.array([image_array]), save_format='jpeg'):\n",
    "        for item in tqdm(batch,total=(num_imagenesXimagen)):\n",
    "            cv2.imwrite(f'image/{i}{name_image}', item)\n",
    "        i += 1\n",
    "        if i > (num_imagenesXimagen): \n",
    "            break"
   ]
  },
  {
   "cell_type": "markdown",
   "id": "950f6c75",
   "metadata": {},
   "source": [
    "**SIZE ADJUSTMENT FUNCTION**"
   ]
  },
  {
   "cell_type": "code",
   "execution_count": 7,
   "id": "753d0b60",
   "metadata": {},
   "outputs": [],
   "source": [
    "def format_example(_pathImage):\n",
    "    \"\"\"\n",
    "    returns an image that is reshaped to IMG_SIZE\n",
    "    \n",
    "    \"\"\"\n",
    "    image_array=cv2.imread(_pathImage, cv2.IMREAD_GRAYSCALE)\n",
    "    image_array=np.array(image_array)\n",
    "    image_array=np.expand_dims(image_array,axis=2) \n",
    "    image_array = image_array.reshape((1,) + image_array.shape) \n",
    "    image_array = (image_array/255)\n",
    "    image_array = tf.image.resize(image_array, (IMG_SIZE, IMG_SIZE))\n",
    "    \n",
    "    return image_array"
   ]
  },
  {
   "cell_type": "markdown",
   "id": "ed78225a",
   "metadata": {},
   "source": [
    "**FUNCTION TO CREATE DATASETS**"
   ]
  },
  {
   "cell_type": "code",
   "execution_count": 8,
   "id": "45f57af1",
   "metadata": {},
   "outputs": [],
   "source": [
    "def dataset_creator(_listTuples):\n",
    "    ds_image_NORMAL=[]\n",
    "    ds_image_PNEUMO=[]\n",
    "\n",
    "    for i, tuple_image in tqdm(enumerate(_listTuples), total=len(_listTuples)):\n",
    "        \n",
    "        image_array=format_example(tuple_image[1]) # Change to array\n",
    "        \n",
    "        if tuple_image[0]=='NORMAL':\n",
    "            in_tuple=('NORMAL',image_array)\n",
    "            ds_image_NORMAL.append(in_tuple)\n",
    "        else:\n",
    "            in_tuple=('PNEUMONIA',image_array)\n",
    "            ds_image_PNEUMO.append(in_tuple)\n",
    "\n",
    "    print(\"Proceso completo.\")\n",
    "    return ds_image_NORMAL,ds_image_PNEUMO"
   ]
  },
  {
   "cell_type": "markdown",
   "id": "3d3bb43e",
   "metadata": {},
   "source": [
    "**FUNCTION TO CREATE CONJUNCTIONS X, y**"
   ]
  },
  {
   "cell_type": "code",
   "execution_count": 9,
   "id": "f7ef57bd",
   "metadata": {},
   "outputs": [],
   "source": [
    "def dataset_loader(_listTuples):\n",
    "    '''\n",
    "    \n",
    "    '''\n",
    "    X = [x[1] for x in ds_total]\n",
    "\n",
    "    for i in range(len(X)):\n",
    "        X[i] = tf.reshape(X[i], (IMG_SIZE, IMG_SIZE, 1))\n",
    "\n",
    "    y = [x[0] for x in ds_total]\n",
    "    # Conversion dictionary\n",
    "    label_dict = {\"NORMAL\": 0, \"PNEUMONIA\": 1}\n",
    "\n",
    "    # Apply the conversion to each item in the list\n",
    "    y = [label_dict[label] for label in y]\n",
    "\n",
    "    X = np.asarray(X)\n",
    "    y= np.asarray(y)\n",
    "    return X,y"
   ]
  },
  {
   "cell_type": "markdown",
   "id": "e9df0caa",
   "metadata": {},
   "source": [
    "**FUNCTION TO CONVERT A GREYSCALE IMAGE TO RGB**"
   ]
  },
  {
   "cell_type": "code",
   "execution_count": 10,
   "id": "3ff4a886",
   "metadata": {},
   "outputs": [],
   "source": [
    "def convert_RGB(_X):\n",
    "    '''\n",
    "    transfgorma una imagen de escala de grises a escala RGB, triplicando el numero de canales y el pixel \n",
    "    '''\n",
    "    # Creates a new array Y with the same shape as X but with three channels\n",
    "    X_rgb = np.zeros((_X.shape[0], _X.shape[1], _X.shape[2], 3))\n",
    "\n",
    "    # Duplicates the values of each pixel of X in the new channels\n",
    "    X_rgb[..., 0] = _X[..., 0]\n",
    "    X_rgb[..., 1] = _X[..., 0]\n",
    "    X_rgb[..., 2] = _X[..., 0]\n",
    "\n",
    "    return X_rgb\n"
   ]
  },
  {
   "cell_type": "markdown",
   "id": "3ad0d33d",
   "metadata": {},
   "source": [
    "#  Scanning, Pre-processing and Loading Data"
   ]
  },
  {
   "cell_type": "code",
   "execution_count": 11,
   "id": "198658dc",
   "metadata": {},
   "outputs": [],
   "source": [
    "#Introduce Parameter for the Model.\n",
    "parameters_form()"
   ]
  },
  {
   "cell_type": "markdown",
   "id": "ea54faee",
   "metadata": {},
   "source": [
    "## Exploration "
   ]
  },
  {
   "cell_type": "code",
   "execution_count": 12,
   "id": "b3fb3817",
   "metadata": {},
   "outputs": [
    {
     "data": {
      "text/plain": [
       "('NORMAL', 'datasets\\\\test\\\\NORMAL\\\\IM-0009-0001.jpeg', (1852, 1443))"
      ]
     },
     "execution_count": 12,
     "metadata": {},
     "output_type": "execute_result"
    },
    {
     "data": {
      "image/png": "[encoded data removed]",
      "text/plain": [
       "<Figure size 640x480 with 1 Axes>"
      ]
     },
     "metadata": {},
     "output_type": "display_data"
    }
   ],
   "source": [
    "# Rute\n",
    "dir_images= \"datasets/\"\n",
    "\n",
    "# Creating a list of tuples with (CLASS, PATH, (WIDTH-HEIGHT))\n",
    "images_list=image_exploration(dir_images)\n",
    "images_list[0]"
   ]
  },
  {
   "cell_type": "markdown",
   "id": "0a8cd26b",
   "metadata": {},
   "source": [
    "## Image Augmentation"
   ]
  },
  {
   "cell_type": "code",
   "execution_count": 13,
   "id": "96868c09",
   "metadata": {},
   "outputs": [
    {
     "name": "stderr",
     "output_type": "stream",
     "text": [
      " 33%|████████████████████████████                                                        | 1/3 [00:00<00:00, 24.99it/s]\n",
      " 33%|████████████████████████████                                                        | 1/3 [00:00<00:00, 20.05it/s]\n",
      " 33%|████████████████████████████                                                        | 1/3 [00:00<00:00, 26.30it/s]\n",
      " 33%|████████████████████████████                                                        | 1/3 [00:00<00:00, 26.53it/s]\n",
      " 33%|████████████████████████████                                                        | 1/3 [00:00<00:00, 29.42it/s]\n",
      " 33%|████████████████████████████                                                        | 1/3 [00:00<00:00, 30.77it/s]\n",
      " 33%|████████████████████████████                                                        | 1/3 [00:00<00:00, 14.93it/s]\n",
      " 33%|████████████████████████████                                                        | 1/3 [00:00<00:00, 20.50it/s]\n",
      " 33%|████████████████████████████                                                        | 1/3 [00:00<00:00, 15.88it/s]\n",
      " 33%|████████████████████████████                                                        | 1/3 [00:00<00:00, 16.54it/s]\n",
      " 33%|████████████████████████████                                                        | 1/3 [00:00<00:00, 21.34it/s]\n",
      " 33%|████████████████████████████                                                        | 1/3 [00:00<00:00, 18.50it/s]\n",
      " 33%|████████████████████████████                                                        | 1/3 [00:00<00:00, 14.63it/s]\n",
      " 33%|████████████████████████████                                                        | 1/3 [00:00<00:00, 18.20it/s]\n",
      " 33%|████████████████████████████                                                        | 1/3 [00:00<00:00, 20.68it/s]\n",
      " 33%|████████████████████████████                                                        | 1/3 [00:00<00:00, 12.70it/s]\n",
      " 33%|████████████████████████████                                                        | 1/3 [00:00<00:00, 10.68it/s]\n",
      " 33%|████████████████████████████                                                        | 1/3 [00:00<00:00, 14.57it/s]\n",
      " 33%|████████████████████████████                                                        | 1/3 [00:00<00:00, 34.38it/s]\n",
      " 33%|████████████████████████████                                                        | 1/3 [00:00<00:00, 33.63it/s]\n",
      " 33%|████████████████████████████                                                        | 1/3 [00:00<00:00, 19.64it/s]\n",
      " 33%|████████████████████████████                                                        | 1/3 [00:00<00:00, 14.77it/s]\n",
      " 33%|████████████████████████████                                                        | 1/3 [00:00<00:00, 16.05it/s]\n",
      " 33%|████████████████████████████                                                        | 1/3 [00:00<00:00, 15.02it/s]\n",
      " 33%|████████████████████████████                                                        | 1/3 [00:00<00:00, 23.89it/s]\n",
      " 33%|████████████████████████████                                                        | 1/3 [00:00<00:00, 25.29it/s]\n",
      " 33%|████████████████████████████                                                        | 1/3 [00:00<00:00, 28.02it/s]\n",
      " 33%|████████████████████████████                                                        | 1/3 [00:00<00:00, 19.19it/s]\n",
      " 33%|████████████████████████████                                                        | 1/3 [00:00<00:00, 26.73it/s]\n",
      " 33%|████████████████████████████                                                        | 1/3 [00:00<00:00, 29.22it/s]\n",
      " 33%|████████████████████████████                                                        | 1/3 [00:00<00:00, 15.39it/s]\n",
      " 33%|████████████████████████████                                                        | 1/3 [00:00<00:00, 14.91it/s]\n",
      " 33%|████████████████████████████                                                        | 1/3 [00:00<00:00, 12.11it/s]\n",
      " 33%|████████████████████████████                                                        | 1/3 [00:00<00:00, 78.88it/s]\n",
      " 33%|████████████████████████████                                                        | 1/3 [00:00<00:00, 48.60it/s]\n",
      " 33%|████████████████████████████                                                        | 1/3 [00:00<00:00, 77.08it/s]\n",
      " 33%|████████████████████████████                                                        | 1/3 [00:00<00:00, 23.36it/s]\n",
      " 33%|████████████████████████████                                                        | 1/3 [00:00<00:00, 25.65it/s]\n",
      " 33%|████████████████████████████                                                        | 1/3 [00:00<00:00, 26.77it/s]\n",
      " 33%|████████████████████████████                                                        | 1/3 [00:00<00:00, 13.00it/s]\n",
      " 33%|████████████████████████████                                                        | 1/3 [00:00<00:00, 13.46it/s]\n",
      " 33%|████████████████████████████                                                        | 1/3 [00:00<00:00, 11.61it/s]\n",
      " 33%|████████████████████████████                                                        | 1/3 [00:00<00:00, 20.20it/s]\n",
      " 33%|████████████████████████████                                                        | 1/3 [00:00<00:00, 17.57it/s]\n",
      " 33%|████████████████████████████                                                        | 1/3 [00:00<00:00, 11.87it/s]\n",
      " 33%|████████████████████████████                                                        | 1/3 [00:00<00:00, 13.38it/s]\n",
      " 33%|████████████████████████████                                                        | 1/3 [00:00<00:00, 15.18it/s]\n",
      " 33%|████████████████████████████                                                        | 1/3 [00:00<00:00, 14.89it/s]\n",
      " 33%|████████████████████████████                                                        | 1/3 [00:00<00:00, 13.36it/s]\n",
      " 33%|████████████████████████████                                                        | 1/3 [00:00<00:00,  9.29it/s]\n",
      " 33%|████████████████████████████                                                        | 1/3 [00:00<00:00, 17.18it/s]"
     ]
    },
    {
     "name": "stdout",
     "output_type": "stream",
     "text": [
      "Proceso completado\n"
     ]
    },
    {
     "name": "stderr",
     "output_type": "stream",
     "text": [
      "\n"
     ]
    }
   ],
   "source": [
    "# List of Tuples\n",
    "images_creator(images_list)"
   ]
  },
  {
   "cell_type": "markdown",
   "id": "3bcc24d7",
   "metadata": {},
   "source": [
    "## List of Created Images"
   ]
  },
  {
   "cell_type": "code",
   "execution_count": 14,
   "id": "f9767e7f",
   "metadata": {},
   "outputs": [
    {
     "data": {
      "text/plain": [
       "('NORMAL', 'image\\\\0IM-0009-0001.jpeg.jpg', (1852, 1443))"
      ]
     },
     "execution_count": 14,
     "metadata": {},
     "output_type": "execute_result"
    },
    {
     "data": {
      "image/png": "[encoded data removed]",
      "text/plain": [
       "<Figure size 640x480 with 1 Axes>"
      ]
     },
     "metadata": {},
     "output_type": "display_data"
    }
   ],
   "source": [
    "# Rute\n",
    "dir_images_news= \"image/\"\n",
    "\n",
    "# Creating a list of tuples with (CLASS, PATH, (WIDTH-HEIGHT))\n",
    "new_images_list=image_exploration(dir_images_news)\n",
    "new_images_list[0] "
   ]
  },
  {
   "cell_type": "markdown",
   "id": "e2b1f678",
   "metadata": {},
   "source": [
    "## Dataset creation (NORMAL - PNEUMONIA)"
   ]
  },
  {
   "cell_type": "code",
   "execution_count": 15,
   "id": "7c22fdde",
   "metadata": {},
   "outputs": [
    {
     "name": "stderr",
     "output_type": "stream",
     "text": [
      "100%|██████████████████████████████████████████████████████████████████████████████| 5950/5950 [01:41<00:00, 58.67it/s]"
     ]
    },
    {
     "name": "stdout",
     "output_type": "stream",
     "text": [
      "Proceso completo.\n"
     ]
    },
    {
     "name": "stderr",
     "output_type": "stream",
     "text": [
      "\n"
     ]
    }
   ],
   "source": [
    "ds_list=images_list+new_images_list\n",
    "ds_NORMAL, ds_PNEUMO=dataset_creator(ds_list)\n",
    "ds_total=ds_NORMAL+ds_PNEUMO"
   ]
  },
  {
   "cell_type": "markdown",
   "id": "69f2d486",
   "metadata": {},
   "source": [
    "## Load Datasets"
   ]
  },
  {
   "cell_type": "code",
   "execution_count": 16,
   "id": "6a95541a",
   "metadata": {},
   "outputs": [],
   "source": [
    "X,y=dataset_loader(ds_total)"
   ]
  },
  {
   "cell_type": "markdown",
   "id": "64b73a58",
   "metadata": {},
   "source": [
    "# DEFINITION OF THE MODEL"
   ]
  },
  {
   "cell_type": "markdown",
   "id": "31d3b5df",
   "metadata": {},
   "source": [
    "## Own Model"
   ]
  },
  {
   "cell_type": "markdown",
   "id": "9fd7983c",
   "metadata": {},
   "source": [
    "<font size=3>**SUBSET OF TRAIN, TEST & VALIDATION**</font>"
   ]
  },
  {
   "cell_type": "code",
   "execution_count": 17,
   "id": "d0f8145e",
   "metadata": {},
   "outputs": [
    {
     "name": "stdout",
     "output_type": "stream",
     "text": [
      "X (train/test/val):4765,595,590 -- y (train/test/val):4765,595,590\n"
     ]
    }
   ],
   "source": [
    "# Definition \n",
    "X_train, X_test, y_train, y_test = train_test_split(X, y, test_size=val_size, random_state= 42)\n",
    "X_train, X_val, y_train, y_val =train_test_split(X_train,y_train, test_size=test_size,random_state= 42)\n",
    "print(f'X (train/test/val):{len(X_train)},{len(X_test)},{len(X_val)} -- y (train/test/val):{len(y_train)},{len(y_test)},{len(y_val)}')"
   ]
  },
  {
   "cell_type": "markdown",
   "id": "f88cd911",
   "metadata": {},
   "source": [
    "<font size=3>**MODEL**</font>"
   ]
  },
  {
   "cell_type": "code",
   "execution_count": 18,
   "id": "42f1b3ab",
   "metadata": {},
   "outputs": [],
   "source": [
    "model_PROP= tf.keras.models.Sequential([\n",
    "    tf.keras.layers.Conv2D(32, (3, 3), activation='relu', input_shape=(IMG_SIZE, IMG_SIZE, 1)),\n",
    "    tf.keras.layers.MaxPooling2D((2, 2)),\n",
    "    tf.keras.layers.Conv2D(64, (3, 3), activation='relu'),\n",
    "    tf.keras.layers.MaxPooling2D((2, 2)),\n",
    "    tf.keras.layers.Flatten(),\n",
    "    tf.keras.layers.Flatten(input_shape= (IMG_SIZE, IMG_SIZE, 1)),\n",
    "    tf.keras.layers.Dense(128, activation= 'relu'),\n",
    "    tf.keras.layers.Dense(64, activation= 'relu'),\n",
    "    tf.keras.layers.Dense(32, activation= 'relu'),\n",
    "    tf.keras.layers.Dense(16, activation= 'relu'),\n",
    "    tf.keras.layers.Dropout(0.1),\n",
    "    tf.keras.layers.Dense(1, activation= 'sigmoid')\n",
    "])\n",
    "\n",
    "model_PROP.compile(optimizer= 'adam',loss= 'binary_crossentropy', metrics= ['accuracy'])\n",
    "#loss='sparse_categorical_crossentropy',"
   ]
  },
  {
   "cell_type": "markdown",
   "id": "692d4ad9",
   "metadata": {},
   "source": [
    "<font size=2>**MODEL TRAINING**</font>"
   ]
  },
  {
   "cell_type": "code",
   "execution_count": 19,
   "id": "8c04f5fc",
   "metadata": {},
   "outputs": [
    {
     "name": "stdout",
     "output_type": "stream",
     "text": [
      "Epoch 1/3\n",
      "149/149 [==============================] - 42s 260ms/step - loss: 0.2901 - accuracy: 0.8760 - val_loss: 0.1246 - val_accuracy: 0.9458\n",
      "Epoch 2/3\n",
      "149/149 [==============================] - 39s 261ms/step - loss: 0.1666 - accuracy: 0.9404 - val_loss: 0.1843 - val_accuracy: 0.9492\n",
      "Epoch 3/3\n",
      "149/149 [==============================] - 39s 259ms/step - loss: 0.1422 - accuracy: 0.9465 - val_loss: 0.1081 - val_accuracy: 0.9576\n"
     ]
    }
   ],
   "source": [
    "history=model_PROP.fit(X_train, y_train, validation_data=(X_val, y_val), epochs=EPOCHS, batch_size=BATCH_SIZE)"
   ]
  },
  {
   "cell_type": "markdown",
   "id": "c5971c6f",
   "metadata": {},
   "source": [
    "<font size=2>**MODEL EVALUATION**</font>"
   ]
  },
  {
   "cell_type": "code",
   "execution_count": 20,
   "id": "0e4359f3",
   "metadata": {},
   "outputs": [
    {
     "name": "stdout",
     "output_type": "stream",
     "text": [
      "19/19 [==============================] - 1s 48ms/step - loss: 0.1089 - accuracy: 0.9613\n",
      "ACC. TEST: 0.9613445401191711 -- ACC. TRAIN: 0.9464848041534424 \n"
     ]
    }
   ],
   "source": [
    "accuracy_train = model_PROP.history.history['accuracy'][-1]\n",
    "loss0, accuracy_test = model_PROP.evaluate(X_test, y_test)\n",
    "\n",
    "print(f'ACC. TEST: {accuracy_test} -- ACC. TRAIN: {accuracy_train} ')"
   ]
  },
  {
   "cell_type": "markdown",
   "id": "ade38131",
   "metadata": {},
   "source": [
    "<font size=2>**LEARNING CURVES**</font>"
   ]
  },
  {
   "cell_type": "code",
   "execution_count": 21,
   "id": "24227e24",
   "metadata": {},
   "outputs": [
    {
     "name": "stderr",
     "output_type": "stream",
     "text": [
      "C:\\Users\\User\\AppData\\Local\\Temp\\ipykernel_17876\\101100714.py:19: UserWarning: Matplotlib is currently using module://matplotlib_inline.backend_inline, which is a non-GUI backend, so cannot show the figure.\n",
      "  fig.show()\n"
     ]
    },
    {
     "data": {
      "image/png": "[encoded data removed]",
      "text/plain": [
       "<Figure size 1000x500 with 2 Axes>"
      ]
     },
     "metadata": {},
     "output_type": "display_data"
    }
   ],
   "source": [
    "fig, axs = plt.subplots(nrows=1, ncols=2, figsize=(10, 5))\n",
    "\n",
    "# To visualize the accuracy of training and validation over time\n",
    "axs[0].plot(history.history['accuracy'])\n",
    "axs[0].plot(history.history['val_accuracy'])\n",
    "axs[0].set_title('Curvas de Aprendizaje')\n",
    "axs[0].set_ylabel('Precisión')\n",
    "axs[0].set_xlabel('Época')\n",
    "axs[0].legend(['Entrenamiento', 'Validación'], loc='upper left')\n",
    "\n",
    "\n",
    "# Visualize the loss of training and validation over time\n",
    "axs[1].plot(history.history['loss'])\n",
    "axs[1].plot(history.history['val_loss'])\n",
    "axs[1].set_title('Curvas de Aprendizaje')\n",
    "axs[1].set_ylabel('Pérdida')\n",
    "axs[1].set_xlabel('Época')\n",
    "axs[1].legend(['Entrenamiento', 'Validación'], loc='upper left')\n",
    "fig.show()"
   ]
  },
  {
   "cell_type": "markdown",
   "id": "751ab4e3",
   "metadata": {},
   "source": [
    "<font size=2>**SAVE MODEL**</font>"
   ]
  },
  {
   "cell_type": "code",
   "execution_count": 22,
   "id": "4917e160",
   "metadata": {},
   "outputs": [
    {
     "name": "stderr",
     "output_type": "stream",
     "text": [
      "WARNING:absl:Found untraced functions such as _jit_compiled_convolution_op, _jit_compiled_convolution_op, _update_step_xla while saving (showing 3 of 3). These functions will not be directly callable after loading.\n"
     ]
    },
    {
     "name": "stdout",
     "output_type": "stream",
     "text": [
      "INFO:tensorflow:Assets written to: pneumonia_recognizer.hSpy\\assets\n"
     ]
    },
    {
     "name": "stderr",
     "output_type": "stream",
     "text": [
      "INFO:tensorflow:Assets written to: pneumonia_recognizer.hSpy\\assets\n"
     ]
    }
   ],
   "source": [
    "#Save the model once it's stored\n",
    "model_PROP.save(\"pneumonia_recognizer.hSpy\")\n"
   ]
  },
  {
   "cell_type": "markdown",
   "id": "e09dc77b",
   "metadata": {},
   "source": [
    "## Mod. InceptionV3"
   ]
  },
  {
   "cell_type": "code",
   "execution_count": 34,
   "id": "96c8ddb5",
   "metadata": {},
   "outputs": [],
   "source": [
    "#Introduce Parameter for the Model.\n",
    "parameters_form()"
   ]
  },
  {
   "cell_type": "code",
   "execution_count": 35,
   "id": "365a5c5d",
   "metadata": {},
   "outputs": [
    {
     "name": "stderr",
     "output_type": "stream",
     "text": [
      "100%|██████████████████████████████████████████████████████████████████████████████| 5950/5950 [01:33<00:00, 63.55it/s]\n"
     ]
    },
    {
     "name": "stdout",
     "output_type": "stream",
     "text": [
      "Proceso completo.\n"
     ]
    }
   ],
   "source": [
    "# Create Datasets\n",
    "ds_list=images_list+new_images_list\n",
    "ds_NORMAL, ds_PNEUMO=dataset_creator(ds_list)\n",
    "ds_total=ds_NORMAL+ds_PNEUMO"
   ]
  },
  {
   "cell_type": "code",
   "execution_count": 25,
   "id": "32ddf10b",
   "metadata": {},
   "outputs": [],
   "source": [
    "#Load Dataset\n",
    "X,y=dataset_loader(ds_total)"
   ]
  },
  {
   "cell_type": "markdown",
   "id": "e4d19138",
   "metadata": {},
   "source": [
    "<font size=3>**Convert Image to RGB (...,...,...,3)**</font>"
   ]
  },
  {
   "cell_type": "code",
   "execution_count": 36,
   "id": "685491e1",
   "metadata": {},
   "outputs": [],
   "source": [
    "X_rgb=convert_RGB(X)"
   ]
  },
  {
   "cell_type": "markdown",
   "id": "1f5e98f2",
   "metadata": {},
   "source": [
    "<font size=3>**SUBSET OF TRAIN, TEST & VALIDATION**</font>"
   ]
  },
  {
   "cell_type": "code",
   "execution_count": 37,
   "id": "c871afb5",
   "metadata": {},
   "outputs": [
    {
     "name": "stdout",
     "output_type": "stream",
     "text": [
      "X (train/test/val):4765,595,590 -- y (train/test/val):4765,595,590\n"
     ]
    }
   ],
   "source": [
    "# Set of data\n",
    "X_train, X_test, y_train, y_test = train_test_split(X_rgb, y, test_size=val_size, random_state= 42)\n",
    "X_train, X_val, y_train, y_val =train_test_split(X_train,y_train, test_size=test_size,random_state= 42)\n",
    "\n",
    "print(f'X (train/test/val):{len(X_train)},{len(X_test)},{len(X_val)} -- y (train/test/val):{len(y_train)},{len(y_test)},{len(y_val)}')"
   ]
  },
  {
   "cell_type": "markdown",
   "id": "7c48f6e3",
   "metadata": {},
   "source": [
    "<font size=3>**MODEL V3**</font>"
   ]
  },
  {
   "cell_type": "code",
   "execution_count": 38,
   "id": "68b41053",
   "metadata": {},
   "outputs": [],
   "source": [
    "base_mod_V3 = tf.keras.applications.InceptionV3(input_shape=(IMG_SIZE, IMG_SIZE, 3),\n",
    "                                                include_top=False,\n",
    "                                                weights='imagenet')"
   ]
  },
  {
   "cell_type": "markdown",
   "id": "956115be",
   "metadata": {},
   "source": [
    "<font size=2>**Remove Weights, Average Layer and Output Layer**</font>"
   ]
  },
  {
   "cell_type": "code",
   "execution_count": 39,
   "id": "0b72c817",
   "metadata": {},
   "outputs": [],
   "source": [
    "# Freeze weights of the base model\n",
    "base_mod_V3.trainable = False\n",
    "\n",
    "# Add global average layer\n",
    "global_average_layer = tf.keras.layers.GlobalAveragePooling2D()\n",
    "\n",
    "# Add prediction layer\n",
    "prediction_layer = tf.keras.layers.Dense(1)"
   ]
  },
  {
   "cell_type": "code",
   "execution_count": 40,
   "id": "ca63bf63",
   "metadata": {},
   "outputs": [],
   "source": [
    "# Build final model\n",
    "model_V3 = tf.keras.Sequential([\n",
    "  base_mod_V3,\n",
    "  global_average_layer,\n",
    "  prediction_layer\n",
    "])\n",
    "\n",
    "# model_V3.compile(optimizer='adam', loss='binary_crossentropy', metrics=['accuracy'])\n",
    "base_learning_rate = 0.0001\n",
    "model_V3.compile(optimizer=tf.keras.optimizers.RMSprop(learning_rate=base_learning_rate),\n",
    "              loss=tf.keras.losses.BinaryCrossentropy(from_logits=True),\n",
    "              metrics=['accuracy'])"
   ]
  },
  {
   "cell_type": "markdown",
   "id": "da033783",
   "metadata": {},
   "source": [
    "<font size=2>**MODEL TRAINING**</font>"
   ]
  },
  {
   "cell_type": "code",
   "execution_count": 41,
   "id": "45acec8c",
   "metadata": {},
   "outputs": [
    {
     "name": "stdout",
     "output_type": "stream",
     "text": [
      "Epoch 1/10\n",
      "149/149 [==============================] - 26s 142ms/step - loss: 0.5993 - accuracy: 0.6241 - val_loss: 0.4495 - val_accuracy: 0.7661\n",
      "Epoch 2/10\n",
      "149/149 [==============================] - 15s 99ms/step - loss: 0.4064 - accuracy: 0.7971 - val_loss: 0.3653 - val_accuracy: 0.8390\n",
      "Epoch 3/10\n",
      "149/149 [==============================] - 15s 99ms/step - loss: 0.3501 - accuracy: 0.8382 - val_loss: 0.3251 - val_accuracy: 0.8593\n",
      "Epoch 4/10\n",
      "149/149 [==============================] - 14s 97ms/step - loss: 0.3177 - accuracy: 0.8615 - val_loss: 0.3006 - val_accuracy: 0.8610\n",
      "Epoch 5/10\n",
      "149/149 [==============================] - 15s 97ms/step - loss: 0.2960 - accuracy: 0.8768 - val_loss: 0.2832 - val_accuracy: 0.8746\n",
      "Epoch 6/10\n",
      "149/149 [==============================] - 15s 98ms/step - loss: 0.2796 - accuracy: 0.8816 - val_loss: 0.2705 - val_accuracy: 0.8847\n",
      "Epoch 7/10\n",
      "149/149 [==============================] - 15s 104ms/step - loss: 0.2671 - accuracy: 0.8881 - val_loss: 0.2606 - val_accuracy: 0.8932\n",
      "Epoch 8/10\n",
      "149/149 [==============================] - 16s 109ms/step - loss: 0.2578 - accuracy: 0.8923 - val_loss: 0.2535 - val_accuracy: 0.8864\n",
      "Epoch 9/10\n",
      "149/149 [==============================] - 17s 113ms/step - loss: 0.2501 - accuracy: 0.8940 - val_loss: 0.2467 - val_accuracy: 0.8983\n",
      "Epoch 10/10\n",
      "149/149 [==============================] - 17s 113ms/step - loss: 0.2428 - accuracy: 0.8997 - val_loss: 0.2430 - val_accuracy: 0.9034\n"
     ]
    }
   ],
   "source": [
    "# Training the model\n",
    "history_V3=model_V3.fit(X_train, y_train, epochs=EPOCHS, validation_data=(X_val, y_val),batch_size=BATCH_SIZE)"
   ]
  },
  {
   "cell_type": "markdown",
   "id": "4b9cc37e",
   "metadata": {},
   "source": [
    "<font size=2>**MODEL EVALUATION**</font>"
   ]
  },
  {
   "cell_type": "code",
   "execution_count": 42,
   "id": "c2d57654",
   "metadata": {},
   "outputs": [
    {
     "name": "stdout",
     "output_type": "stream",
     "text": [
      "19/19 [==============================] - 2s 98ms/step - loss: 0.2528 - accuracy: 0.9042\n",
      "ACC. TEST: 0.9042016863822937 -- ACC. TRAIN: 0.8996852040290833 \n"
     ]
    }
   ],
   "source": [
    "accuracy_train = model_V3.history.history['accuracy'][-1]\n",
    "loss0, accuracy_test = model_V3.evaluate(X_test, y_test)\n",
    "\n",
    "print(f'ACC. TEST: {accuracy_test} -- ACC. TRAIN: {accuracy_train} ')"
   ]
  },
  {
   "cell_type": "markdown",
   "id": "27f02aad",
   "metadata": {},
   "source": [
    "<font size=2>**LEARNING CURVES**</font>"
   ]
  },
  {
   "cell_type": "code",
   "execution_count": 43,
   "id": "24e79200",
   "metadata": {},
   "outputs": [
    {
     "name": "stderr",
     "output_type": "stream",
     "text": [
      "C:\\Users\\User\\AppData\\Local\\Temp\\ipykernel_17876\\3648086599.py:19: UserWarning: Matplotlib is currently using module://matplotlib_inline.backend_inline, which is a non-GUI backend, so cannot show the figure.\n",
      "  fig.show()\n"
     ]
    },
    {
     "data": {
      "image/png": "[encoded data removed]",
      "text/plain": [
       "<Figure size 1000x500 with 2 Axes>"
      ]
     },
     "metadata": {},
     "output_type": "display_data"
    }
   ],
   "source": [
    "fig, axs = plt.subplots(nrows=1, ncols=2, figsize=(10, 5))\n",
    "\n",
    "# Visualize the accuracy of training and validation over time\n",
    "axs[0].plot(history_V3.history['accuracy'])\n",
    "axs[0].plot(history_V3.history['val_accuracy'])\n",
    "axs[0].set_title('Curvas de Aprendizaje')\n",
    "axs[0].set_ylabel('Precisión')\n",
    "axs[0].set_xlabel('Época')\n",
    "axs[0].legend(['Entrenamiento', 'Validación'], loc='upper left')\n",
    "\n",
    "\n",
    "# Visualize the accuracy of training and validation over time\n",
    "axs[1].plot(history_V3.history['loss'])\n",
    "axs[1].plot(history_V3.history['val_loss'])\n",
    "axs[1].set_title('Curvas de Aprendizaje')\n",
    "axs[1].set_ylabel('Pérdida')\n",
    "axs[1].set_xlabel('Época')\n",
    "axs[1].legend(['Entrenamiento', 'Validación'], loc='upper left')\n",
    "fig.show()"
   ]
  }
 ],
 "metadata": {
  "kernelspec": {
   "display_name": "Python 3 (ipykernel)",
   "language": "python",
   "name": "python3"
  },
  "language_info": {
   "codemirror_mode": {
    "name": "ipython",
    "version": 3
   },
   "file_extension": ".py",
   "mimetype": "text/x-python",
   "name": "python",
   "nbconvert_exporter": "python",
   "pygments_lexer": "ipython3",
   "version": "3.9.13"
  },
  "toc": {
   "base_numbering": 1,
   "nav_menu": {},
   "number_sections": true,
   "sideBar": true,
   "skip_h1_title": false,
   "title_cell": "Table of Contents",
   "title_sidebar": "Contents",
   "toc_cell": false,
   "toc_position": {},
   "toc_section_display": true,
   "toc_window_display": false
  }
 },
 "nbformat": 4,
 "nbformat_minor": 5
}
